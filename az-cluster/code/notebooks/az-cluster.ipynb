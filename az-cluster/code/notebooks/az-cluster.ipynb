{
 "cells": [
  {
   "cell_type": "markdown",
   "metadata": {},
   "source": [
    "### Before you Begin. The '--dryrun' option and the '--yes' Option \n",
    "Do you want to run the commands or just see them?  \n",
    "Below we have set the carme option `dryrun` so that commands are printed and not executed. \n",
    "\n",
    "If executing carme commands from the command line, by default the CMD command and will print the command and ask you to confirm before executing it. In Jupyter notebooks, this interactivity isn't possible. Instead, just add the --yes flag.   "
   ]
  },
  {
   "cell_type": "code",
   "execution_count": 1,
   "metadata": {},
   "outputs": [],
   "source": [
    "#To run for real, just set dryrun=''\n",
    "#dryrun= '' to run or dryrun='--dryrun' to print. \n",
    "dryrun='--dryrun'\n",
    "yes = '--yes'"
   ]
  },
  {
   "cell_type": "markdown",
   "metadata": {},
   "source": [
    "### View Available Commands"
   ]
  },
  {
   "cell_type": "code",
   "execution_count": 2,
   "metadata": {},
   "outputs": [
    {
     "name": "stdout",
     "output_type": "stream",
     "text": [
      "carme: [INFO] All cmd commands issued from project root directory to ensure relative path consistency.\r\n",
      "carme: [INFO] These commands are currently installed:\r\n",
      "show_config: \"cat ./config/az-cluster.yaml\"\r\n",
      "login: \"az login\"\r\n",
      "set_subscription: az account set --subscription {subscription}\r\n",
      "list_subscriptions: az account list --refresh --output table\r\n",
      "create_all: ['create_group', 'register0', 'register1', 'register2', 'register3', 'create_key0',\r\n",
      "  'create_key1', 'create', 'get_credentials', 'helm0', 'helm1', 'helm2', 'helm3']\r\n",
      "install_helm: ['get_credentials', 'helm0', 'helm1', 'helm2', 'helm3']\r\n",
      "helm0: \"kubectl --namespace kube-system create serviceaccount tiller\"\r\n",
      "helm1: \"kubectl create clusterrolebinding tiller --clusterrole cluster-admin --serviceaccount=kube-system:tiller\"\r\n",
      "helm2: \"helm init --service-account tiller\"\r\n",
      "helm3: \"script\"\r\n",
      "create_group: \"az group create --name {resource_group} --location {location}\"\r\n",
      "delete_group: \"az group delete --name {resource_group} --yes\"\r\n",
      "register: [register0, register1, register2, register3]\r\n",
      "register0: \"az provider register --name Microsoft.Network --wait\"\r\n",
      "register1: \"az provider register --name Microsoft.Compute --wait\"\r\n",
      "register2: \"az provider register --name Microsoft.Storage --wait\"\r\n",
      "register3: \"az provider register --name Microsoft.ContainerService --wait\"\r\n",
      "create_key: [create_key0, create_key1]\r\n",
      "create_key0: \"mkdir ./config/ssh/{cluster_name}\"\r\n",
      "create_key1: \"cd ./config/ssh/{cluster_name} && ssh-keygen -f ssh-key-{cluster_name}\\\r\n",
      "  \\ -N ''\"\r\n",
      "list-locations: \"az account list-locations\"\r\n",
      "create: \"cd ./config/ssh/{cluster_name} && az aks create  --resource-group {resource_group}\\\r\n",
      "  \\ --name {cluster_name} --node-count {num_nodes} --node-vm-size {machine_type} --ssh-key-value\\\r\n",
      "  \\ ssh-key-{cluster_name}.pub\"\r\n",
      "describe: \"az aks list --resource-group {resource_group}\"\r\n",
      "delete: \"az aks delete --name {cluster_name} --resource-group {resource_group} --yes\"\r\n",
      "install_kubectl: \"az aks install-cli\"\r\n",
      "get_credentials: \"az aks get-credentials --name {cluster_name} --resource-group {resource_group}\\\r\n",
      "  \\  --output table\"\r\n",
      "normal_size: \"az aks scale --node-count {num_nodes} --name {cluster_name} --resource-group\\\r\n",
      "  \\ {resource_group}\"\r\n",
      "class_size: \"az aks scale --node-count {num_nodes_class} --name {cluster_name} --resource-group\\\r\n",
      "  \\ {resource_group}\"\r\n",
      "# Can't size to 0 {stop_cluster: \"az acs scale --resource-group={resource_group} --name={cluster_name} --new-agent-count 0\"\r\n",
      "create_storage: \"az storage account create --resource-group={resource_group} --location={location}\\\r\n",
      "  \\ --sku=Standard_LRS --name={storage_account} --kind=Storage\"\r\n",
      "get_storage_key: \"az storage account keys list --account-name={storage_account} --resource-group={resource_group}\\\r\n",
      "  \\ --output=json | jq .[0].value -r\"\r\n",
      "create_keyvault: \"az keyvault create --name={cluster_name} --resource-group={resource_group}\\\r\n",
      "  \\ --location={location} --enabled-for-template-deployment true\"\r\n",
      "backup_private_key: \"az keyvault secret set --vault-name={cluster_name} --name=id-rsa-{cluster_name}\\\r\n",
      "  \\ --file=~/.ssh/id_rsa_{cluster_name}\"\r\n",
      "backup_public_key: \"az keyvault secret set --vault-name={cluster_name} --name=id-rsa{cluster_name}-pub\\\r\n",
      "  \\ --file=~/.ssh/id_rsa_{cluster_name}.pub\"\r\n",
      "get_private_key: \"az keyvault secret show --vault-name={cluster_name} --name=id-rsa-{cluster_name}\"\r\n",
      "get_public_key: \"az keyvault secret show --vault-name={cluster_name} --name=id-rsa{cluster_name}-pub\"\r\n"
     ]
    }
   ],
   "source": [
    "!carme cmd az-cluster list\n"
   ]
  },
  {
   "cell_type": "markdown",
   "metadata": {},
   "source": [
    "### View the Configuration"
   ]
  },
  {
   "cell_type": "code",
   "execution_count": 3,
   "metadata": {},
   "outputs": [
    {
     "name": "stdout",
     "output_type": "stream",
     "text": [
      "carme: [INFO] All cmd commands issued from project root directory to ensure relative path consistency.\r\n",
      "carme: [INFO] Running the command: show_config\r\n",
      "carme: [INFO] Template: cat ./config/az-cluster.yaml\r\n",
      "carme: [INFO] Command: cat ./config/az-cluster.yaml\r\n",
      "Executing show_config:\r\n",
      " cat ./config/az-cluster.yaml\r\n",
      "subscription: '\"Microsoft Azure Sponsorship\"'  #Can be name or ID\r\n",
      "resource_group: carmecluster     #Resource groups are used to separate projects.\r\n",
      "cluster_name: carmecluster        #Name your cluster whatever you like.\r\n",
      "location: eastus        #Selection from `az account list-locations`.\r\n",
      "dns_prefix: carme         #Selection from gcloud compute regions list.\r\n",
      "machine_type: Standard_D2s_v3        #Type of Server https://docs.microsoft.com/en-us/azure/cloud-services/cloud-services-sizes-specs\r\n",
      "kubernetes_version: 1.8.2            #The appropriate Kubernetes Version.\r\n",
      "num_nodes: 3                      #The default number of nodes (servers)\r\n",
      "num_nodes_class: 3\r\n",
      "max_nodes: 4\r\n"
     ]
    }
   ],
   "source": [
    "!carme cmd az-cluster show_config $yes"
   ]
  },
  {
   "cell_type": "markdown",
   "metadata": {},
   "source": [
    "### Create Kubernetes Cluster on Azure\n",
    "\n",
    "This notebook can be used to launch a Kubernetes Cluster using Azure CLI.  It is designed to be run in an environment in whic the appropriate tools (Helm/Azure CLI) are installed.  \n",
    "\n",
    "This script assumes you have already installed the az-server package and logged in using the `az login` command.  \n",
    "\n",
    "To install the package use:\n",
    "`carme package install az-cluster`\n",
    "\n",
    "To log into the Azure CLI:\n",
    "`carme cmd az-cluser login`\n",
    "\n",
    "You may also have to set the correct subscription. \n",
    "`az account list --refresh --output table`\n",
    "\n",
    "Set the appropriate subscription here. \n",
    "`az account set -s <YOUR-CHOSEN-SUBSCRIPTION-NAME>`\n",
    "   \n"
   ]
  },
  {
   "cell_type": "markdown",
   "metadata": {},
   "source": [
    "### Login to Azure"
   ]
  },
  {
   "cell_type": "code",
   "execution_count": 4,
   "metadata": {},
   "outputs": [
    {
     "name": "stdout",
     "output_type": "stream",
     "text": [
      "carme: [INFO] All cmd commands issued from project root directory to ensure relative path consistency.\r\n",
      "carme: [INFO] Running the command: login\r\n",
      "carme: [INFO] Template: az login\r\n",
      "carme: [INFO] Command: az login\r\n"
     ]
    }
   ],
   "source": [
    "!carme cmd az-cluster login $dryrun $yes"
   ]
  },
  {
   "cell_type": "markdown",
   "metadata": {},
   "source": [
    "### List Available Subscription (Optional)\n",
    "You can update the current subscription usine either the ID or the name.  "
   ]
  },
  {
   "cell_type": "code",
   "execution_count": 5,
   "metadata": {},
   "outputs": [
    {
     "name": "stdout",
     "output_type": "stream",
     "text": [
      "carme: [INFO] All cmd commands issued from project root directory to ensure relative path consistency.\r\n",
      "carme: [INFO] Running the command: list_subscriptions\r\n",
      "carme: [INFO] Template: az account list --refresh --output table\r\n",
      "carme: [INFO] Command: az account list --refresh --output table\r\n"
     ]
    }
   ],
   "source": [
    "#This will list all subscrptions. \n",
    "!carme cmd az-cluster list_subscriptions $dryrun $yes"
   ]
  },
  {
   "cell_type": "markdown",
   "metadata": {},
   "source": [
    "### Set the Appropriate Subscription (Optional)\n",
    "You can skip this if you already have the appropriate subscription set. "
   ]
  },
  {
   "cell_type": "code",
   "execution_count": null,
   "metadata": {},
   "outputs": [],
   "source": [
    "!carme cmd az-cluster set_subscription $dryrun $yes"
   ]
  },
  {
   "cell_type": "markdown",
   "metadata": {},
   "source": [
    "### Create the Resource Group \n",
    "Google calls them projects.  Azure calles them resource groups. Either way you need one. This useful to track spending and also ensure you delete all resources at the end. \n"
   ]
  },
  {
   "cell_type": "code",
   "execution_count": null,
   "metadata": {},
   "outputs": [],
   "source": [
    "!carme cmd az-cluster create_group $dryrun $yes"
   ]
  },
  {
   "cell_type": "markdown",
   "metadata": {},
   "source": [
    "### Enable the Cloud API\n",
    "The following commands enable various Azure tools that we’ll need in creating and managing the JupyterHub."
   ]
  },
  {
   "cell_type": "code",
   "execution_count": null,
   "metadata": {},
   "outputs": [],
   "source": [
    "!carme cmd az-cluster register $dryrun $yes"
   ]
  },
  {
   "cell_type": "markdown",
   "metadata": {},
   "source": [
    "### Create the ssh key.  \n",
    "This will create the ssh key and put it in the ./config/ssh/servername directory. "
   ]
  },
  {
   "cell_type": "code",
   "execution_count": null,
   "metadata": {},
   "outputs": [],
   "source": [
    "!carme cmd az-cluster create_key $dryrun $yes"
   ]
  },
  {
   "cell_type": "markdown",
   "metadata": {},
   "source": [
    "### Create the Cluster\n",
    "This will create your Kubernetes Cluster. You have to wait for about 5 minutes before this finishes creating.\n"
   ]
  },
  {
   "cell_type": "code",
   "execution_count": null,
   "metadata": {},
   "outputs": [],
   "source": [
    "!carme cmd az-cluster create $dryrun $yes"
   ]
  },
  {
   "cell_type": "markdown",
   "metadata": {},
   "source": [
    "### WAIT FOR A WHILE\n",
    "This can take up to 10 minutes. \n",
    "\n",
    "If you get an error \".kube/config: No such file or directory\" just wait, it is likely still booting up. \n",
    "\n",
    "### Get Credentials for Kubectl\n",
    "We need to add the credentials for Kubectl to work. You need a bit of time for your Kubernetes to launch."
   ]
  },
  {
   "cell_type": "code",
   "execution_count": null,
   "metadata": {},
   "outputs": [],
   "source": [
    "!carme cmd az-cluster get_credentials $dryrun $yes"
   ]
  },
  {
   "cell_type": "markdown",
   "metadata": {},
   "source": [
    "### Check your Cluster\n",
    "`kubectl` is the default kubernetes command you can use to check out lots of things on your cluster. Go ahead and trying the `cluster info` and `get node` commands below. "
   ]
  },
  {
   "cell_type": "code",
   "execution_count": null,
   "metadata": {},
   "outputs": [],
   "source": [
    "!kubectl cluster-info"
   ]
  },
  {
   "cell_type": "code",
   "execution_count": null,
   "metadata": {},
   "outputs": [],
   "source": [
    "!kubectl get node"
   ]
  },
  {
   "cell_type": "markdown",
   "metadata": {},
   "source": [
    "### Helm Installation.  \n",
    "We are going to be utilizing Helm for  installations of a variety of analytics tools.  This command will install Tiller on your cluster.  As they say, \"Happy Helming!\" \n",
    "\n",
    "The command will created the service account, initiate it, and print the helm version. "
   ]
  },
  {
   "cell_type": "code",
   "execution_count": null,
   "metadata": {},
   "outputs": [],
   "source": [
    "!carme cmd az-cluster install_helm $dryrun $yes"
   ]
  },
  {
   "cell_type": "markdown",
   "metadata": {},
   "source": [
    "A critical factor for Helm is that you have the same version running locally and via your machine. If you run helm version and you the same versions on the client and sever, you should be fine. \n",
    "\n",
    "*Client: &version.Version{SemVer:\"v2.6.2\", GitCommit:\"be3ae4ea91b2960be98c07e8f73754e67e87963c\", GitTreeState:\"clean\"}*\n",
    "\n",
    "*Server: &version.Version{SemVer:\"v2.6.2\", GitCommit:\"be3ae4ea91b2960be98c07e8f73754e67e87963c\", GitTreeState:\"clean\"}*\n",
    "\n",
    "To install an alternate version, use this: \n",
    "\n",
    "*curl https://raw.githubusercontent.com/kubernetes/helm/master/scripts/get > get_helm.sh*\n",
    "\n",
    "*chmod 700 get_helm.sh*\n",
    "\n",
    "*RUN get_helm.sh --version v2.6.2*"
   ]
  },
  {
   "cell_type": "code",
   "execution_count": null,
   "metadata": {},
   "outputs": [],
   "source": [
    "!helm version"
   ]
  },
  {
   "cell_type": "markdown",
   "metadata": {},
   "source": [
    "Secure Helm"
   ]
  },
  {
   "cell_type": "markdown",
   "metadata": {},
   "source": [
    "### Resize a Cluster\n",
    "The commands below can be used to resize the cluster.  For example, you man need to scale up for classroom exercises. This is held in the config file as the number of servers for class_size. "
   ]
  },
  {
   "cell_type": "code",
   "execution_count": null,
   "metadata": {},
   "outputs": [],
   "source": [
    "!carme cmd az-cluster class_size $dryrun $yes"
   ]
  },
  {
   "cell_type": "markdown",
   "metadata": {},
   "source": [
    "Stop the cluster, effectively setting the size to 0."
   ]
  },
  {
   "cell_type": "code",
   "execution_count": null,
   "metadata": {},
   "outputs": [],
   "source": [
    "!carme cmd az-cluster stop $dryrun $yes"
   ]
  },
  {
   "cell_type": "markdown",
   "metadata": {},
   "source": [
    "Set the cluster to the normal size. This is a \"non class time\" size. "
   ]
  },
  {
   "cell_type": "code",
   "execution_count": null,
   "metadata": {},
   "outputs": [],
   "source": [
    "#Set the cluster to the normal size.\n",
    "!carme cluster normal_size"
   ]
  },
  {
   "cell_type": "markdown",
   "metadata": {},
   "source": [
    "### Deleting a Kubernetes Cluster\n",
    "\n",
    "This will delete the Kubernetes cluster by deleting the entire project. This will prefent any future charges. "
   ]
  },
  {
   "cell_type": "code",
   "execution_count": null,
   "metadata": {},
   "outputs": [],
   "source": [
    "#Always delete the namespace first. \n",
    "!carme cmd az-cluster delete $dryrun $yes"
   ]
  },
  {
   "cell_type": "markdown",
   "metadata": {},
   "source": [
    "### Delete the Resource Group\n",
    "To fully clean up everything, go ahead and delete the resource group."
   ]
  },
  {
   "cell_type": "code",
   "execution_count": null,
   "metadata": {},
   "outputs": [],
   "source": [
    "!carme cmd az-cluster delete_group $dryrun $yes"
   ]
  }
 ],
 "metadata": {
  "anaconda-cloud": {},
  "kernelspec": {
   "display_name": "Python 3",
   "language": "python",
   "name": "python3"
  },
  "language_info": {
   "codemirror_mode": {
    "name": "ipython",
    "version": 3
   },
   "file_extension": ".py",
   "mimetype": "text/x-python",
   "name": "python",
   "nbconvert_exporter": "python",
   "pygments_lexer": "ipython3",
   "version": "3.6.3"
  }
 },
 "nbformat": 4,
 "nbformat_minor": 2
}
