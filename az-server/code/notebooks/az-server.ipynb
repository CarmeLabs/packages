{
 "cells": [
  {
   "cell_type": "markdown",
   "metadata": {},
   "source": [
    "# Manage a Server on Azure\n",
    "\n",
    "This notebook can be used to launch a server using Azure CLI.  It is designed to be run via the included Docker container, but it can be run locally if the appropriate tools are installed.  \n",
    "\n",
    "This script assumes you have already installed the az-server package and logged in using the `az login` command.  \n",
    "\n",
    "To install the package use:\n",
    "`carme package install az-server`\n",
    "\n",
    "To log into the Azure CLI:\n",
    "`az login`\n",
    "\n",
    "\n",
    "#Remove the comment below.     "
   ]
  },
  {
   "cell_type": "code",
   "execution_count": null,
   "metadata": {},
   "outputs": [
    {
     "name": "stdout",
     "output_type": "stream",
     "text": [
      "\u001b[33mTo sign in, use a web browser to open the page https://microsoft.com/devicelogin and enter the code ECJUCE9R9 to authenticate.\u001b[0m\r\n"
     ]
    }
   ],
   "source": [
    "#!az login"
   ]
  },
  {
   "cell_type": "markdown",
   "metadata": {},
   "source": [
    "### Do you want to run the commands or just see them?  \n",
    "Below we have set the carme option dryrun so that commands are printed and not executed. "
   ]
  },
  {
   "cell_type": "code",
   "execution_count": 11,
   "metadata": {},
   "outputs": [],
   "source": [
    "#To run for real, just set dryrun=''\n",
    "#dryrun= ''\n",
    "dryrun='--dryrun'"
   ]
  },
  {
   "cell_type": "markdown",
   "metadata": {},
   "source": [
    "### Print Available Commands\n",
    "Optionally you can print the configuration and common commands for your desired cluster. You can use this as a reference and copy and paste into the terminal."
   ]
  },
  {
   "cell_type": "code",
   "execution_count": 17,
   "metadata": {},
   "outputs": [
    {
     "name": "stdout",
     "output_type": "stream",
     "text": [
      "login: \"az login\"\r\n",
      "login_sa: \"echo 'Service account login not yet available for Azure'\"\r\n",
      "create_resource_group: \"az group create --name {resource_group} --location {location}\"\r\n",
      "create_server: \"az vm create -n {server_name} -g {resource_group} --image {image_name} --authentication-type {server_auth} --admin-username User --admin-password Pass\"\r\n",
      "create_storage:  \"az storage account create --resource-group={resource_group} --location={location} --sku=Standard_LRS --name={storage_account} --kind=Storage\"\r\n",
      "get_storage_key: \"az storage account keys list --account-name={storage_account} --resource-group={resource_group} --output=json | jq .[0].value -r\"\r\n",
      "create_keyvault: \"az keyvault create --name={cluster_name} --resource-group={resource_group} --location={location} --enabled-for-template-deployment true\"\r\n",
      "backup_private_key: \"az keyvault secret set --vault-name={cluster_name} --name=id-rsa-{cluster_name} --file=~/.ssh/id_rsa_{cluster_name}\"\r\n",
      "backup_public_key: \"az keyvault secret set --vault-name={cluster_name} --name=id-rsa{cluster_name}-pub --file=~/.ssh/id_rsa_{cluster_name}.pub\"\r\n",
      "get_private_key: \"az keyvault secret show --vault-name={cluster_name} --name=id-rsa-{cluster_name}\"\r\n",
      "get_public_key: \"az keyvault secret show --vault-name={cluster_name} --name=id-rsa{cluster_name}-pub\"\r\n"
     ]
    }
   ],
   "source": [
    "!cat ../../commands/az-server.yaml\n"
   ]
  },
  {
   "cell_type": "markdown",
   "metadata": {},
   "source": [
    "### Create Resource Groups \n",
    "Google calls them projects.  Azure calles them resource groups. Either way you need one. This useful to track spending and also ensure you delete all resources at the end. \n"
   ]
  },
  {
   "cell_type": "code",
   "execution_count": 14,
   "metadata": {},
   "outputs": [
    {
     "name": "stdout",
     "output_type": "stream",
     "text": [
      "carme: [INFO] Running the command: create_resource_group\r\n",
      "carme: [INFO] Template: az group create --name {resource_group} --location {location}\r\n",
      "carme: [INFO] Values: az group create --name carme --location eastus2\r\n"
     ]
    }
   ],
   "source": [
    "!carme cmd az-server create_resource_group $dryrun"
   ]
  },
  {
   "cell_type": "markdown",
   "metadata": {},
   "source": [
    "### Review the Server Configuration\n",
    "This will create your Kubernetes Cluster. You have to wait for about 5 minutes before this finishes creating.\n"
   ]
  },
  {
   "cell_type": "code",
   "execution_count": 15,
   "metadata": {},
   "outputs": [
    {
     "name": "stdout",
     "output_type": "stream",
     "text": [
      "azure_image: carmelabs/azurecli\r\n",
      "email: 'jason@analyticsdojo.com'    #Email Associated with the account.\r\n",
      "#Start of Azure Configuration\r\n",
      "resource_group: carme     #Resource groups are used to separate projects.\r\n",
      "server_name: carme_server\r\n",
      "server_image: UbuntuLTS         #Bionic 18.04 (LTS)Artful 17.10 Xenial 16.04 (LTS)\r\n",
      "server_admin: carme_user\r\n",
      "server_auth: '--generate-ssh-keys'\r\n",
      "storage_account: twitter          #For use with Pachyderm\r\n",
      "container_name: twitter           #For use with Pachyderm\r\n",
      "storage_name: pach2-disk.vhd   #For use with Pachyderm\r\n",
      "storage_size: 1                #For use with Pachyderm Storage account size in GB.\r\n",
      "location: eastus2                 #Selection from `az account list-locations`.\r\n"
     ]
    }
   ],
   "source": [
    "!cat ../../config/az-server.yaml"
   ]
  },
  {
   "cell_type": "code",
   "execution_count": null,
   "metadata": {},
   "outputs": [],
   "source": [
    "#Create the Server "
   ]
  },
  {
   "cell_type": "code",
   "execution_count": 20,
   "metadata": {},
   "outputs": [
    {
     "name": "stdout",
     "output_type": "stream",
     "text": [
      "carme: [INFO] Running the command: create_server\r\n",
      "carme: [INFO] Template: az vm create -n {server_name} -g {resource_group} --image {server_image} --size {server_size} --authentication-type {server_auth}\r\n",
      "carme: [INFO] Values: az vm create -n carme_server -g carme --image UbuntuLTS --size Standard_DS2_v2 --authentication-type --generate-ssh-keys\r\n"
     ]
    }
   ],
   "source": [
    "!carme cmd az-server create_server $dryrun"
   ]
  },
  {
   "cell_type": "markdown",
   "metadata": {},
   "source": [
    "### WAIT FOR A WHILE\n",
    "This can take a few minutes. \n",
    "\n"
   ]
  },
  {
   "cell_type": "code",
   "execution_count": null,
   "metadata": {},
   "outputs": [],
   "source": [
    "#gcloud container clusters get-credentials carme\n",
    "!az vm open-port --port 80 --resource-group myResourceGroup --name myVM"
   ]
  },
  {
   "cell_type": "code",
   "execution_count": null,
   "metadata": {},
   "outputs": [],
   "source": [
    "#Check to see if we have Kubectl working. \n",
    "!kubectl cluster-info\n"
   ]
  },
  {
   "cell_type": "code",
   "execution_count": null,
   "metadata": {},
   "outputs": [],
   "source": [
    "#Check notes with Kubectl\n",
    "!kubectl get node\n"
   ]
  },
  {
   "cell_type": "markdown",
   "metadata": {},
   "source": [
    "### Helm Installation.  \n",
    "We are going to be utilizing Helm for  installations of a variety of analytics tools.  This command will install Tiller on your cluster.  As they say, \"Happy Helming!\" \n",
    "\n",
    "A critical factor for Helm is that you have the same version running locally and via your machine.  If you run helm version and you have the right version, then you should be fine.\n",
    "\n",
    "```\n",
    "Client: &version.Version{SemVer:\"v2.6.2\", GitCommit:\"be3ae4ea91b2960be98c07e8f73754e67e87963c\", GitTreeState:\"clean\"}\n",
    "Server: &version.Version{SemVer:\"v2.6.2\", GitCommit:\"be3ae4ea91b2960be98c07e8f73754e67e87963c\", GitTreeState:\"clean\"}\n",
    "```\n",
    "\n",
    "To install the appropriate version: \n",
    "\n",
    "```\n",
    "curl https://raw.githubusercontent.com/kubernetes/helm/master/scripts/get > get_helm.sh\n",
    "chmod 700 get_helm.sh\n",
    "RUN get_helm.sh --version v2.6.2\n",
    "\n",
    "```\n"
   ]
  },
  {
   "cell_type": "code",
   "execution_count": null,
   "metadata": {},
   "outputs": [],
   "source": [
    "#This may need to be run more than once if you get a \"cannot connect to server.\"\n",
    "!helm version"
   ]
  },
  {
   "cell_type": "code",
   "execution_count": null,
   "metadata": {},
   "outputs": [],
   "source": [
    "# Both ACS and GKE install tiller on the server.\n",
    "!helm init --client-only"
   ]
  },
  {
   "cell_type": "code",
   "execution_count": null,
   "metadata": {},
   "outputs": [],
   "source": [
    "#Run this command if the Client > Server version\n",
    "!helm init --upgrade"
   ]
  },
  {
   "cell_type": "code",
   "execution_count": null,
   "metadata": {},
   "outputs": [],
   "source": [
    "#Verify Versions are equal\n",
    "!helm version"
   ]
  },
  {
   "cell_type": "markdown",
   "metadata": {},
   "source": [
    "### Enabling Autoscaling (optional)\n",
    "\n",
    "This should launch a pod within your kubernetes cluster that will handle autoscaling of the cluster. Note that this seems to take a while and may even timeout. Consider opening and running in a terminal session. "
   ]
  },
  {
   "cell_type": "code",
   "execution_count": null,
   "metadata": {},
   "outputs": [],
   "source": [
    "#Google only. Currently Not possible with azure\n",
    "!carme cluster autoscale"
   ]
  },
  {
   "cell_type": "markdown",
   "metadata": {},
   "source": [
    "#### That is it! You now have your own Kubernetes cluster that is ready to go. "
   ]
  },
  {
   "cell_type": "markdown",
   "metadata": {},
   "source": [
    "### Resize a Cluster\n"
   ]
  },
  {
   "cell_type": "code",
   "execution_count": null,
   "metadata": {},
   "outputs": [],
   "source": [
    "#Scale the cluster \n",
    "!carme cluster class_size"
   ]
  },
  {
   "cell_type": "code",
   "execution_count": null,
   "metadata": {},
   "outputs": [],
   "source": [
    "#Stop the cluster, effectively setting the size to 0.\n",
    "!carme cluster stop"
   ]
  },
  {
   "cell_type": "code",
   "execution_count": null,
   "metadata": {},
   "outputs": [],
   "source": [
    "#Set the cluster to the normal size.\n",
    "!carme cluster normal_size"
   ]
  },
  {
   "cell_type": "markdown",
   "metadata": {},
   "source": [
    "### Deleting a Kubernetes Cluster\n",
    "\n",
    "This will delete the Kubernetes cluster by deleting the entire project. This will prefent any future charges. "
   ]
  },
  {
   "cell_type": "code",
   "execution_count": null,
   "metadata": {},
   "outputs": [],
   "source": [
    "#Always delete the namespace first. \n",
    "!carme cluster delete"
   ]
  }
 ],
 "metadata": {
  "anaconda-cloud": {},
  "kernelspec": {
   "display_name": "Python 3",
   "language": "python",
   "name": "python3"
  },
  "language_info": {
   "codemirror_mode": {
    "name": "ipython",
    "version": 3
   },
   "file_extension": ".py",
   "mimetype": "text/x-python",
   "name": "python",
   "nbconvert_exporter": "python",
   "pygments_lexer": "ipython3",
   "version": "3.6.3"
  }
 },
 "nbformat": 4,
 "nbformat_minor": 2
}
