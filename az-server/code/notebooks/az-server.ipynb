{
 "cells": [
  {
   "cell_type": "markdown",
   "metadata": {},
   "source": [
    "# Manage a Server on Azure\n",
    "\n",
    "This notebook can be used to launch a server using Azure CLI.  It is designed to be run via the included Docker container, but it can be run locally if the appropriate tools are installed.  \n",
    "\n",
    "This script assumes you have already installed the az-server package and logged in using the `az login` command.  \n",
    "\n",
    "To install the package use:\n",
    "`carme package install az-server`\n",
    "\n",
    "To log into the Azure CLI:\n",
    "`az login`\n",
    "\n",
    "\n",
    "#Remove the comment below.     "
   ]
  },
  {
   "cell_type": "code",
   "execution_count": 43,
   "metadata": {},
   "outputs": [],
   "source": [
    "#!az login"
   ]
  },
  {
   "cell_type": "markdown",
   "metadata": {},
   "source": [
    "### Do you want to run the commands or just see them?  \n",
    "Below we have set the carme option dryrun so that commands are printed and not executed. "
   ]
  },
  {
   "cell_type": "code",
   "execution_count": 44,
   "metadata": {},
   "outputs": [],
   "source": [
    "#To run for real, just set dryrun=''\n",
    "#dryrun= ''\n",
    "dryrun='--dryrun'"
   ]
  },
  {
   "cell_type": "markdown",
   "metadata": {},
   "source": [
    "### Print Available Commands\n",
    "Optionally you can print the configuration and common commands for your desired cluster. You can use this as a reference and copy and paste into the terminal."
   ]
  },
  {
   "cell_type": "code",
   "execution_count": 45,
   "metadata": {},
   "outputs": [
    {
     "name": "stdout",
     "output_type": "stream",
     "text": [
      "login: \"az login\"\r\n",
      "login_sa: \"echo 'Service account login not yet available for Azure'\"\r\n",
      "create_resource_group: \"az group create --name {resource_group} --location {location}\"\r\n",
      "delete_resource_group: \"az group delete --name {resource_group} --location {location}\"\r\n",
      "create: \"az vm create --name {server_name} --resource-group {resource_group} --image {server_image} --size {server_size} --admin-username {server_admin} --generate-ssh-keys\"\r\n",
      "stop: \"az vm deallocate --name {server_name} --resource-group {resource_group}\"\r\n",
      "start: \"az vm start --name {server_name} --resource-group {resource_group}\"\r\n",
      "delete: \"az vm delete --name {server_name} --resource-group {resource_group} --yes\"\r\n",
      "show: \"az vm show --name {server_name} --resource-group {resource_group}\"\r\n",
      "ssh: \"ssh {server_admin}@{server_ip}\"\r\n",
      "open_port_80: \"az vm open-port --port 80 --resource-group {resource_group} --name {server_name}\"\r\n",
      "open_port_8888: \"az vm open-port --port 8888 --resource-group {resource_group} --name {server_name}\"\r\n",
      "open_ports_all: \"az vm open-port --port * --resource-group {resource_group} --name {server_name}\"\r\n",
      "show_sizes: \"az vm list-sizes --location {location}\"\r\n",
      "create_storage:  \"az storage account create --resource-group={resource_group} --location={location} --sku=Standard_LRS --name={storage_account} --kind=Storage\"\r\n",
      "get_storage_key: \"az storage account keys list --account-name={storage_account} --resource-group={resource_group} --output=json | jq .[0].value -r\"\r\n",
      "create_keyvault: \"az keyvault create --name={resource_group} --resource-group={resource_group} --location={location} --enabled-for-template-deployment true\"\r\n",
      "backup_private_key: \"az keyvault secret set --vault-name={vault_name} --name=id-rsa-{server_name} --file=~/.ssh/id_rsa_{server_name}\"\r\n",
      "backup_public_key: \"az keyvault secret set --vault-name={vault_name} --name=id-rsa{server_name}-pub --file=~/.ssh/id_rsa_{server_name}.pub\"\r\n",
      "get_private_key: \"az keyvault secret show --vault-name={vault_name} --name=id-rsa-{server_name}\"\r\n",
      "get_public_key: \"az keyvault secret show --vault-name={vault_name} --name=id-rsa{server_name}-pub\"\r\n"
     ]
    }
   ],
   "source": [
    "!cat ../../commands/az-server.yaml\n"
   ]
  },
  {
   "cell_type": "markdown",
   "metadata": {},
   "source": [
    "### Create Resource Groups \n",
    "Google calls them projects.  Azure calles them resource groups. Either way you need one. This useful to track spending and also ensure you delete all resources at the end. \n"
   ]
  },
  {
   "cell_type": "code",
   "execution_count": 46,
   "metadata": {},
   "outputs": [
    {
     "name": "stdout",
     "output_type": "stream",
     "text": [
      "carme: [INFO] Running the command: create_resource_group\r\n",
      "carme: [INFO] Template: az group create --name {resource_group} --location {location}\r\n",
      "carme: [INFO] Values: az group create --name carme --location eastus2\r\n"
     ]
    }
   ],
   "source": [
    "!carme cmd az-server create_resource_group $dryrun"
   ]
  },
  {
   "cell_type": "markdown",
   "metadata": {},
   "source": [
    "### Review the Server Configuration\n",
    "This will create your Kubernetes Cluster. You have to wait for about 5 minutes before this finishes creating.\n"
   ]
  },
  {
   "cell_type": "code",
   "execution_count": 47,
   "metadata": {},
   "outputs": [
    {
     "name": "stdout",
     "output_type": "stream",
     "text": [
      "azure_image: carmelabs/azurecli\r\n",
      "email: 'jason@analyticsdojo.com'    #Email Associated with the account.\r\n",
      "#Start of Azure Configuration\r\n",
      "resource_group: carme     #Resource groups are used to separate projects.\r\n",
      "server_name: carmeserver\r\n",
      "server_image: UbuntuLTS         #Bionic 18.04 (LTS)Artful 17.10 Xenial 16.04 (LTS)\r\n",
      "server_admin: carmeuser\r\n",
      "server_auth: '--generate-ssh-keys'\r\n",
      "server_size: 'Standard_DS1_v2'    #See all available at `carme cmd az-server show_sizes` or https://azure.microsoft.com/en-us/pricing/details/virtual-machines/linux/\r\n",
      "storage_account: twitter          #For use with Pachyderm\r\n",
      "container_name: twitter           #For use with Pachyderm\r\n",
      "storage_name: pach2-disk.vhd   #For use with Pachyderm\r\n",
      "storage_size: 1                #For use with Pachyderm Storage account size in GB.\r\n",
      "location: eastus2                 #Selection from `az account list-locations`.\r\n",
      "server_ip: 104.210.8.14\r\n"
     ]
    }
   ],
   "source": [
    "!cat ../../config/az-server.yaml"
   ]
  },
  {
   "cell_type": "markdown",
   "metadata": {},
   "source": [
    "### Create the Server \n",
    "This will create the server with an SSH key. This is the easiest way to manage it. "
   ]
  },
  {
   "cell_type": "code",
   "execution_count": 48,
   "metadata": {},
   "outputs": [
    {
     "name": "stdout",
     "output_type": "stream",
     "text": [
      "carme: [INFO] Running the command: create\r\n",
      "carme: [INFO] Template: az vm create --name {server_name} --resource-group {resource_group} --image {server_image} --size {server_size} --admin-username {server_admin} --generate-ssh-keys\r\n",
      "carme: [INFO] Values: az vm create --name carmeserver --resource-group carme --image UbuntuLTS --size Standard_DS1_v2 --admin-username carmeuser --generate-ssh-keys\r\n"
     ]
    }
   ],
   "source": [
    "!carme cmd az-server create $dryrun"
   ]
  },
  {
   "cell_type": "markdown",
   "metadata": {},
   "source": [
    "### WAIT FOR A WHILE\n",
    "This can take a few minutes. \n",
    "\n"
   ]
  },
  {
   "cell_type": "markdown",
   "metadata": {},
   "source": [
    "### Open Ports on the Target Machine\n",
    "There is a need to open ports on the target machine. "
   ]
  },
  {
   "cell_type": "code",
   "execution_count": 49,
   "metadata": {},
   "outputs": [
    {
     "name": "stdout",
     "output_type": "stream",
     "text": [
      "carme: [INFO] Running the command: open_port_8888\r\n",
      "carme: [INFO] Template: az vm open-port --port 8888 --resource-group {resource_group} --name {server_name}\r\n",
      "carme: [INFO] Values: az vm open-port --port 8888 --resource-group carme --name carmeserver\r\n"
     ]
    }
   ],
   "source": [
    "#gcloud container clusters get-credentials carme\n",
    "!carme cmd az-server open_port_8888 $dryrun"
   ]
  },
  {
   "cell_type": "markdown",
   "metadata": {},
   "source": [
    "### Using and Enhancing Your Server\n",
    "\n",
    "`carme cmd az-server ssh --dryrun\n",
    "`\n"
   ]
  },
  {
   "cell_type": "code",
   "execution_count": 50,
   "metadata": {},
   "outputs": [
    {
     "name": "stdout",
     "output_type": "stream",
     "text": [
      "carme: [INFO] Running the command: ssh\r\n",
      "carme: [INFO] Template: ssh {server_admin}@{server_ip}\r\n",
      "carme: [INFO] Values: ssh carmeuser@104.210.8.14\r\n"
     ]
    }
   ],
   "source": [
    "!carme cmd az-server ssh --dryrun"
   ]
  },
  {
   "cell_type": "markdown",
   "metadata": {},
   "source": [
    "### Stop the Server\n",
    "The stop command by default deallocates so you won't be charged untill you start it up again. "
   ]
  },
  {
   "cell_type": "code",
   "execution_count": 51,
   "metadata": {},
   "outputs": [
    {
     "name": "stdout",
     "output_type": "stream",
     "text": [
      "carme: [INFO] Running the command: stop\r\n",
      "carme: [INFO] Template: az vm deallocate --name {server_name} --resource-group {resource_group}\r\n",
      "carme: [INFO] Values: az vm deallocate --name carmeserver --resource-group carme\r\n"
     ]
    }
   ],
   "source": [
    "#Scale the cluster \n",
    "!carme cmd az-server stop $dryrun"
   ]
  },
  {
   "cell_type": "markdown",
   "metadata": {},
   "source": [
    "### Start the Server"
   ]
  },
  {
   "cell_type": "code",
   "execution_count": 52,
   "metadata": {},
   "outputs": [
    {
     "name": "stdout",
     "output_type": "stream",
     "text": [
      "carme: [INFO] Running the command: start\r\n",
      "carme: [INFO] Template: az vm start --name {server_name} --resource-group {resource_group}\r\n",
      "carme: [INFO] Values: az vm start --name carmeserver --resource-group carme\r\n"
     ]
    }
   ],
   "source": [
    "#Stop the cluster, effectively setting the size to 0.\n",
    "!carme cmd az-server start $dryrun"
   ]
  },
  {
   "cell_type": "markdown",
   "metadata": {},
   "source": [
    "### Show the Server"
   ]
  },
  {
   "cell_type": "code",
   "execution_count": 53,
   "metadata": {},
   "outputs": [
    {
     "name": "stdout",
     "output_type": "stream",
     "text": [
      "carme: [INFO] Running the command: show\r\n",
      "carme: [INFO] Template: az vm show --name {server_name} --resource-group {resource_group}\r\n",
      "carme: [INFO] Values: az vm show --name carmeserver --resource-group carme\r\n"
     ]
    }
   ],
   "source": [
    "#Set the cluster to the normal size.\n",
    "!carme cmd az-server show $dryrun"
   ]
  },
  {
   "cell_type": "markdown",
   "metadata": {},
   "source": [
    "### Deleting the Server\n",
    "\n",
    "This will delete the Kubernetes cluster by deleting the entire project. This will prefent any future charges. "
   ]
  },
  {
   "cell_type": "code",
   "execution_count": 54,
   "metadata": {},
   "outputs": [
    {
     "name": "stdout",
     "output_type": "stream",
     "text": [
      "carme: [INFO] Running the command: delete\r\n",
      "carme: [INFO] Template: az vm delete --name {server_name} --resource-group {resource_group} --yes\r\n",
      "carme: [INFO] Values: az vm delete --name carmeserver --resource-group carme --yes\r\n"
     ]
    }
   ],
   "source": [
    "#Always delete the namespace first. \n",
    "!carme cmd az-server delete $dryrun"
   ]
  },
  {
   "cell_type": "markdown",
   "metadata": {},
   "source": [
    "### Delete the Resource Group\n",
    "To fully clean up everything, go ahead and delete the resource group. "
   ]
  },
  {
   "cell_type": "code",
   "execution_count": 55,
   "metadata": {},
   "outputs": [
    {
     "name": "stdout",
     "output_type": "stream",
     "text": [
      "carme: [INFO] Running the command: delete_resource_group\r\n",
      "carme: [INFO] Template: az group delete --name {resource_group} --location {location}\r\n",
      "carme: [INFO] Values: az group delete --name carme --location eastus2\r\n"
     ]
    }
   ],
   "source": [
    "!carme cmd az-server delete_resource_group $dryrun"
   ]
  }
 ],
 "metadata": {
  "anaconda-cloud": {},
  "kernelspec": {
   "display_name": "Python 3",
   "language": "python",
   "name": "python3"
  },
  "language_info": {
   "codemirror_mode": {
    "name": "ipython",
    "version": 3
   },
   "file_extension": ".py",
   "mimetype": "text/x-python",
   "name": "python",
   "nbconvert_exporter": "python",
   "pygments_lexer": "ipython3",
   "version": "3.6.3"
  }
 },
 "nbformat": 4,
 "nbformat_minor": 2
}
