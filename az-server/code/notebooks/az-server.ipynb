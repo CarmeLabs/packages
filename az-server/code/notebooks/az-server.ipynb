{
 "cells": [
  {
   "cell_type": "markdown",
   "metadata": {},
   "source": [
    "### Before you Begin. The '--dryrun' option and the '--yes' Option \n",
    "Do you want to run the commands or just see them?  \n",
    "Below we have set the carme option `dryrun` so that commands are printed and not executed. \n",
    "\n",
    "If executing carme commands from the command line, by default the CMD command and will print the command and ask you to confirm before executing it. In Jupyter notebooks, this interactivity isn't possible. Instead, just add the --yes flag.   "
   ]
  },
  {
   "cell_type": "code",
   "execution_count": null,
   "metadata": {},
   "outputs": [],
   "source": [
    "\n",
    "#To run for real, just set dryrun=''\n",
    "dryrun='--dryrun' \n",
    "#Because Jupyter notebooks aren't interactive, commands have to be executed with a '--yes' option. \n",
    "yes = '--yes'   #Needed only for Jupyter notebooks. \n",
    "\n",
    "\n"
   ]
  },
  {
   "cell_type": "markdown",
   "metadata": {},
   "source": [
    "### Manage a Server on Azure\n",
    "\n",
    "This notebook can be used to launch a server using Azure CLI.  It is designed to be run via the included Docker container, but it can be run locally if the appropriate tools are installed.  \n",
    "\n",
    "This script assumes you have already installed the az-server package and logged in using the `az login` command.  \n",
    "\n",
    "To install the package use:\n",
    "`carme package install az-server`\n",
    "\n",
    "To log into the Azure CLI:\n",
    "`carme cmd az-server login`\n",
    "\n",
    "You may also have to set the correct subscription. \n",
    "`az account list --refresh --output table`\n",
    "\n",
    "Set the appropriate subscription here. \n",
    "`az account set -s <YOUR-CHOSEN-SUBSCRIPTION-NAME>`\n",
    "     "
   ]
  },
  {
   "cell_type": "code",
   "execution_count": null,
   "metadata": {},
   "outputs": [],
   "source": [
    "!carme cmd az-server login $dryrun $yes "
   ]
  },
  {
   "cell_type": "markdown",
   "metadata": {},
   "source": [
    "### Print Available Commands\n",
    "Optionally you can print the configuration and common commands for your desired cluster. You can use this as a reference and copy and paste into the terminal."
   ]
  },
  {
   "cell_type": "code",
   "execution_count": null,
   "metadata": {},
   "outputs": [],
   "source": [
    "!carme cmd az-server list\n"
   ]
  },
  {
   "cell_type": "markdown",
   "metadata": {},
   "source": [
    "### Review the Package Configuration\n",
    "You should always review your configuration prior to executing any commands. \n"
   ]
  },
  {
   "cell_type": "code",
   "execution_count": null,
   "metadata": {},
   "outputs": [],
   "source": [
    "!cat ../../config/az-server.yaml"
   ]
  },
  {
   "cell_type": "markdown",
   "metadata": {},
   "source": [
    "### Create Resource Groups \n",
    "Google calls them projects.  Azure calles them resource groups. Either way you need one. This useful to track spending and also ensure you delete all resources at the end. \n"
   ]
  },
  {
   "cell_type": "code",
   "execution_count": null,
   "metadata": {},
   "outputs": [],
   "source": [
    "!carme cmd az-server create_group $dryrun $yes"
   ]
  },
  {
   "cell_type": "markdown",
   "metadata": {},
   "source": [
    "### Create the Server \n",
    "This will create the server with an SSH key. This is the easiest way to manage it. "
   ]
  },
  {
   "cell_type": "code",
   "execution_count": null,
   "metadata": {},
   "outputs": [],
   "source": [
    "!carme cmd az-server create $dryrun $yes"
   ]
  },
  {
   "cell_type": "markdown",
   "metadata": {},
   "source": [
    "### WAIT FOR A WHILE\n",
    "This can take a few minutes. \n",
    "\n"
   ]
  },
  {
   "cell_type": "markdown",
   "metadata": {},
   "source": [
    "### Open Ports on the Target Machine\n",
    "There is a need to open ports on the target machine. "
   ]
  },
  {
   "cell_type": "code",
   "execution_count": null,
   "metadata": {},
   "outputs": [],
   "source": [
    "#gcloud container clusters get-credentials carme\n",
    "!carme cmd az-server open_port_8888 $dryrun $yes"
   ]
  },
  {
   "cell_type": "markdown",
   "metadata": {},
   "source": [
    "### Using and Enhancing Your Server\n",
    "\n",
    "`carme cmd az-server ssh --dryrun\n",
    "`\n"
   ]
  },
  {
   "cell_type": "code",
   "execution_count": null,
   "metadata": {},
   "outputs": [],
   "source": [
    "!carme cmd az-server ssh $dryrun $yes"
   ]
  },
  {
   "cell_type": "markdown",
   "metadata": {},
   "source": [
    "### Stop the Server\n",
    "The stop command by default deallocates so you won't be charged untill you start it up again. "
   ]
  },
  {
   "cell_type": "code",
   "execution_count": null,
   "metadata": {},
   "outputs": [],
   "source": [
    "#Scale the cluster \n",
    "!carme cmd az-server stop $dryrun $yes"
   ]
  },
  {
   "cell_type": "markdown",
   "metadata": {},
   "source": [
    "### Start the Server"
   ]
  },
  {
   "cell_type": "code",
   "execution_count": null,
   "metadata": {},
   "outputs": [],
   "source": [
    "#Stop the cluster, effectively setting the size to 0.\n",
    "!carme cmd az-server start $dryrun $yes"
   ]
  },
  {
   "cell_type": "markdown",
   "metadata": {},
   "source": [
    "### Show the Server"
   ]
  },
  {
   "cell_type": "code",
   "execution_count": null,
   "metadata": {},
   "outputs": [],
   "source": [
    "#Set the cluster to the normal size.\n",
    "!carme cmd az-server show $dryrun $yes"
   ]
  },
  {
   "cell_type": "markdown",
   "metadata": {},
   "source": [
    "### Deleting the Server\n",
    "\n",
    "This will delete the Kubernetes cluster by deleting the entire project. This will prefent any future charges. "
   ]
  },
  {
   "cell_type": "code",
   "execution_count": null,
   "metadata": {},
   "outputs": [],
   "source": [
    "#Always delete the namespace first. \n",
    "!carme cmd az-server delete $dryrun $yes"
   ]
  },
  {
   "cell_type": "markdown",
   "metadata": {},
   "source": [
    "### Delete the Resource Group\n",
    "To fully clean up everything, go ahead and delete the resource group. "
   ]
  },
  {
   "cell_type": "code",
   "execution_count": null,
   "metadata": {},
   "outputs": [],
   "source": [
    "!carme cmd az-server delete_resource_group $dryrun $yes"
   ]
  }
 ],
 "metadata": {
  "anaconda-cloud": {},
  "kernelspec": {
   "display_name": "Python 3",
   "language": "python",
   "name": "python3"
  },
  "language_info": {
   "codemirror_mode": {
    "name": "ipython",
    "version": 3
   },
   "file_extension": ".py",
   "mimetype": "text/x-python",
   "name": "python",
   "nbconvert_exporter": "python",
   "pygments_lexer": "ipython3",
   "version": "3.6.3"
  }
 },
 "nbformat": 4,
 "nbformat_minor": 2
}
